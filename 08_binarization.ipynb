{
 "cells": [
  {
   "cell_type": "markdown",
   "metadata": {},
   "source": [
    "## 08. 이진화\n",
    "- 임계값을 기준으로 색상을 흰색과 검은색으로 나누는 것"
   ]
  },
  {
   "cell_type": "code",
   "execution_count": 1,
   "metadata": {},
   "outputs": [],
   "source": [
    "import cv2\n",
    "import numpy as np\n",
    "\n",
    "BOOK = \"images/book.jpg\"\n"
   ]
  },
  {
   "cell_type": "markdown",
   "metadata": {},
   "source": [
    "### 8-1. 기본 이진화\n",
    "- 'ret, binary = cv2.threshold()'"
   ]
  },
  {
   "cell_type": "code",
   "execution_count": 2,
   "metadata": {},
   "outputs": [],
   "source": [
    "img = cv2.imread(BOOK, cv2.IMREAD_GRAYSCALE) \n",
    "\n",
    "ret, binary = cv2.threshold(img, 127, 255, cv2.THRESH_BINARY) # THRESH_BINARY = 임계값보다 작으면 검은색, 크면 흰색\n",
    "\n",
    "cv2.imshow(\"img\", img)\n",
    "cv2.imshow(\"binary\", binary)\n",
    "\n",
    "cv2.waitKey(0)\n",
    "cv2.destroyAllWindows()"
   ]
  },
  {
   "cell_type": "code",
   "execution_count": 4,
   "metadata": {},
   "outputs": [],
   "source": [
    "img = cv2.imread(\"images/hanni.jpg\")\n",
    "name = \"Trackbar\"\n",
    "cv2.namedWindow(name)\n",
    "\n",
    "cv2.createTrackbar(\"threshold\", name, 0, 360, lambda x: x)\n",
    "\n",
    "\n",
    "while True:\n",
    "    thresh = cv2.getTrackbarPos(\"threshold\", name)\n",
    "    ret,binary = cv2.threshold(img, thresh, 255, cv2.THRESH_BINARY)\n",
    "\n",
    "    if not ret:\n",
    "        break\n",
    "    if cv2.waitKey(1) == ord(\"q\"):\n",
    "        break\n",
    "    \n",
    "cv2.destroyAllWindows()"
   ]
  },
  {
   "cell_type": "markdown",
   "metadata": {},
   "source": [
    "### 실습2-2. Threshold에 적용"
   ]
  },
  {
   "cell_type": "code",
   "execution_count": 13,
   "metadata": {},
   "outputs": [],
   "source": [
    "img = cv2.imread(\"images/hanni.jpg\", cv2.IMREAD_GRAYSCALE)\n",
    "\n",
    "name = \"Trackbar\"\n",
    "cv2.namedWindow(name)\n",
    "\n",
    "cv2.createTrackbar(\"threshold\", name, 0, 255, lambda x: x)\n",
    "\n",
    "\n",
    "while True:\n",
    "    thresh = cv2.getTrackbarPos(\"threshold\", name)\n",
    "    ret, binary = cv2.threshold(img, thresh, 255, cv2.THRESH_BINARY)\n",
    "\n",
    "    cv2.imshow(name,binary)\n",
    "\n",
    "    if cv2.waitKey(1) == ord(\"q\"):\n",
    "        break\n",
    "    \n",
    "cv2.destroyAllWindows()"
   ]
  },
  {
   "cell_type": "markdown",
   "metadata": {},
   "source": [
    "## 실습2-1. 컬러 팔레트 만들기"
   ]
  },
  {
   "cell_type": "code",
   "execution_count": null,
   "metadata": {},
   "outputs": [],
   "source": [
    "import cv2\n",
    "import numpy as np\n",
    "\n",
    "img = np.zeros((400, 600, 3), dtype=np.uint8)  # 검은색 배경 생성 (컬러 이미지)\n",
    "\n",
    "# 윈도우 생성\n",
    "name = \"image\"\n",
    "cv2.namedWindow(name)\n",
    "\n",
    "# 트랙바 생성\n",
    "cv2.createTrackbar(\"R\", name, 0, 255, lambda x: None)  # 빨간색 값\n",
    "cv2.createTrackbar(\"G\", name, 0, 255, lambda x: None)  # 초록색 값\n",
    "cv2.createTrackbar(\"B\", name, 0, 255, lambda x: None)  # 파란색 값\n",
    "cv2.createTrackbar(\"ON/OFF\", name, 0, 1, lambda x: None)  # ON/OFF 스위치\n",
    "\n",
    "# 기본값 설정\n",
    "cv2.setTrackbarPos(\"R\", name, 0)\n",
    "cv2.setTrackbarPos(\"G\", name, 0)\n",
    "cv2.setTrackbarPos(\"B\", name, 0)\n",
    "cv2.setTrackbarPos(\"ON/OFF\", name, 0)\n",
    "\n",
    "\n",
    "while True:\n",
    "    r = cv2.getTrackbarPos(\"R\", name)\n",
    "    g = cv2.getTrackbarPos(\"G\", name)\n",
    "    b = cv2.getTrackbarPos(\"B\", name)\n",
    "    switch = cv2.getTrackbarPos(\"ON/OFF\", name)\n",
    "\n",
    "    if switch == 0:  # OFF 상태\n",
    "        display_img = np.zeros((height, width, 3), dtype=np.uint8)  # 검은색 배경 유지\n",
    "    else:  # ON 상태\n",
    "        display_img = np.zeros((height, width, 3), dtype=np.uint8)\n",
    "        display_img[:] = [b, g, r]  # BGR 값으로 화면 채우기 \n",
    "\n",
    "    cv2.imshow(name, display_img)\n",
    "        \n",
    "    if cv2.waitKey(1) == ord(\"q\"):\n",
    "        break\n",
    "\n",
    "cv2.destroyAllWindows()\n"
   ]
  },
  {
   "cell_type": "code",
   "execution_count": null,
   "metadata": {},
   "outputs": [],
   "source": []
  }
 ],
 "metadata": {
  "kernelspec": {
   "display_name": "my_cv",
   "language": "python",
   "name": "python3"
  },
  "language_info": {
   "codemirror_mode": {
    "name": "ipython",
    "version": 3
   },
   "file_extension": ".py",
   "mimetype": "text/x-python",
   "name": "python",
   "nbconvert_exporter": "python",
   "pygments_lexer": "ipython3",
   "version": "3.13.0"
  }
 },
 "nbformat": 4,
 "nbformat_minor": 2
}
