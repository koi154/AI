{
 "cells": [
  {
   "cell_type": "markdown",
   "metadata": {},
   "source": [
    "## 07. 원근 변환"
   ]
  },
  {
   "cell_type": "code",
   "execution_count": 11,
   "metadata": {},
   "outputs": [],
   "source": [
    "import cv2\n",
    "import numpy as np\n",
    "\n",
    "CARD = \"images/card.jpg\""
   ]
  },
  {
   "cell_type": "code",
   "execution_count": null,
   "metadata": {},
   "outputs": [],
   "source": [
    "import cv2\n",
    "import numpy as np\n",
    "\n",
    "# 이미지 로드 \n",
    "img = cv2.imread(CARD)\n",
    "\n",
    "width, height = 600, 250\n",
    "\n",
    "# 변환할 지점 선택 (좌상, 우상, 우하, 좌하) - 시계 방향 순서\n",
    "src = np.array([[54, 261], [981, 128], [1213, 560], [194, 735]], dtype=np.float32)\n",
    "\n",
    "# 결과물의 출력 형태 (좌상, 우상, 우하, 좌하) - 시계 방향 순서\n",
    "dst = np.array([[0, 0], [width, 0], [width, height], [0, height]], dtype=np.float32)\n",
    "\n",
    "# 원근 변환을 위한 변환 행렬 생성\n",
    "mat = cv2.getPerspectiveTransform(src, dst)\n",
    "\n",
    "# 변환 행렬에 따라 이미지 변환\n",
    "result = cv2.warpPerspective(img, mat, (width, height))\n",
    "\n",
    "# 원본 및 변환 결과 출력\n",
    "cv2.imshow(\"img\", img)\n",
    "cv2.imshow(\"perspective\", result)\n",
    "\n",
    "cv2.waitKey(0)\n",
    "cv2.destroyAllWindows()\n"
   ]
  },
  {
   "cell_type": "markdown",
   "metadata": {},
   "source": [
    "### 실습1. 이미지 원근 변환하기\n"
   ]
  },
  {
   "cell_type": "code",
   "execution_count": 20,
   "metadata": {},
   "outputs": [],
   "source": [
    "import cv2\n",
    "import numpy as np\n",
    "\n",
    "JOKER = \"images/joker.jpg\"\n",
    "\n",
    "# 이미지 로드 \n",
    "img = cv2.imread(JOKER)\n",
    "\n",
    "width, height = 250, 250\n",
    "\n",
    "# 변환할 지점 선택 (좌상, 우상, 우하, 좌하) - 시계 방향 순서\n",
    "src = np.array([[127, 60], [165, 83], [78, 250], [73, 99]], dtype=np.float32)\n",
    "\n",
    "# 결과물의 출력 형태 (좌상, 우상, 우하, 좌하) - 시계 방향 순서\n",
    "dst = np.array([[0, 0], [width, 0], [width, height], [0, height]], dtype=np.float32)\n",
    "\n",
    "# 원근 변환을 위한 변환 행렬 생성\n",
    "mat = cv2.getPerspectiveTransform(src, dst)\n",
    "\n",
    "# 변환 행렬에 따라 이미지 변환\n",
    "result = cv2.warpPerspective(img, mat, (width, height))\n",
    "\n",
    "# 원본 및 변환 결과 출력\n",
    "cv2.imshow(\"img\", img)\n",
    "cv2.imshow(\"perspective\", result)\n",
    "\n",
    "cv2.waitKey(0)\n",
    "cv2.destroyAllWindows()\n"
   ]
  },
  {
   "cell_type": "code",
   "execution_count": null,
   "metadata": {},
   "outputs": [],
   "source": []
  }
 ],
 "metadata": {
  "kernelspec": {
   "display_name": "my_cv",
   "language": "python",
   "name": "python3"
  },
  "language_info": {
   "codemirror_mode": {
    "name": "ipython",
    "version": 3
   },
   "file_extension": ".py",
   "mimetype": "text/x-python",
   "name": "python",
   "nbconvert_exporter": "python",
   "pygments_lexer": "ipython3",
   "version": "3.13.0"
  }
 },
 "nbformat": 4,
 "nbformat_minor": 2
}
