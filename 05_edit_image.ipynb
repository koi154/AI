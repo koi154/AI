{
 "cells": [
  {
   "cell_type": "markdown",
   "metadata": {},
   "source": [
    "## 05. 이미지 조정"
   ]
  },
  {
   "cell_type": "code",
   "execution_count": 5,
   "metadata": {},
   "outputs": [],
   "source": [
    "import cv2\n",
    "import numpy as np\n"
   ]
  },
  {
   "cell_type": "code",
   "execution_count": 6,
   "metadata": {},
   "outputs": [],
   "source": [
    "import cv2\n",
    "import numpy as np\n",
    "\n",
    "DOG_PATH = \"images/dog.jpg\"\n"
   ]
  },
  {
   "cell_type": "markdown",
   "metadata": {},
   "source": [
    "### 5-1. 이미지 복사"
   ]
  },
  {
   "cell_type": "code",
   "execution_count": 7,
   "metadata": {},
   "outputs": [],
   "source": [
    "img = cv2.imread(DOG_PATH)\n",
    "shallow_copy = img\n",
    "deep_copy = img.copy()\n",
    "\n",
    "gray = cv2.cvtColor(shallow_copy, cv2.COLOR_BGR2GRAY)\n",
    "\n",
    "cv2.imshow(\"original\", img)\n",
    "cv2.imshow(\"shallow\", shallow_copy)\n",
    "\n",
    "cv2.waitKey(0)\n",
    "cv2.destroyAllWindows()"
   ]
  },
  {
   "cell_type": "markdown",
   "metadata": {},
   "source": [
    "### 5-2. 리사이즈"
   ]
  },
  {
   "cell_type": "code",
   "execution_count": 8,
   "metadata": {},
   "outputs": [],
   "source": [
    "img = cv2.imread(DOG_PATH)\n",
    "# img.shape\n",
    "\n",
    "# 고정 크기를 입력해서 조정\n",
    "# dst = cv2.resize(img, (213,320))\n",
    "\n",
    "# 비율로 조정\n",
    "dst = cv2.resize(img, None, fx=2.5, fy=2.5, interpolation=cv2.INTER_LINEAR)\n",
    "cubic = cv2.resize(img, None, fx=2.5, fy=2.5, interpolation=cv2.INTER_CUBIC)\n",
    "\n",
    "cv2.imshow(\"dst\", dst)\n",
    "cv2.imshow(\"cubic\", cubic)\n",
    "cv2.waitKey(0)\n",
    "cv2.destroyAllWindows()"
   ]
  },
  {
   "cell_type": "markdown",
   "metadata": {},
   "source": [
    "### 실습2. 영상 리사이즈 해서 출력\n"
   ]
  },
  {
   "cell_type": "code",
   "execution_count": 9,
   "metadata": {},
   "outputs": [],
   "source": [
    "import cv2\n",
    "\n",
    "FIRE_VIDEO_PATH = \"videos/fire.mp4\"\n",
    "cap = cv2.VideoCapture(FIRE_VIDEO_PATH)\n",
    "\n",
    "while cap.isOpened(): \n",
    "    ret, frame = cap.read()\n",
    "\n",
    "    if not ret:\n",
    "        break\n",
    "\n",
    "    resized_frame = cv2.resize(frame, None, fx=0.5, fy=0.5)\n",
    "\n",
    "    cv2.imshow(\"Resize_Video\", resized_frame) \n",
    "\n",
    "    if cv2.waitKey(60) == ord(\"q\"):\n",
    "        break\n",
    "    \n",
    "cap.release()\n",
    "cv2.destroyAllWindows()\n"
   ]
  },
  {
   "cell_type": "code",
   "execution_count": 10,
   "metadata": {},
   "outputs": [],
   "source": [
    "img = cv2.imread(DOG_PATH)\n",
    "\n",
    "size_up = cv2.pyrUp(img)\n",
    "size_down = cv2.pyrDown(img)\n",
    "\n",
    "cv2.imshow(\"Pyr up\", size_up)\n",
    "cv2.imshow(\"origin\", img)\n",
    "cv2.imshow(\"Pyr Down\", size_down)\n",
    "cv2.waitKey(0)\n",
    "cv2.destroyAllWindows()\n",
    "\n"
   ]
  },
  {
   "cell_type": "markdown",
   "metadata": {},
   "source": [
    "### 5-3. 이미지 자르기"
   ]
  },
  {
   "cell_type": "code",
   "execution_count": 11,
   "metadata": {},
   "outputs": [],
   "source": [
    "img = cv2.imread(DOG_PATH)\n",
    "# print(img.shape)\n",
    "cropped = img[100:180, 200:270]\n",
    "\n",
    "cv2.imshow(\"Dog\", img)\n",
    "cv2.imshow(\"Dog cropped\", cropped)\n",
    "\n",
    "cv2.waitKey(0)\n",
    "cv2.destroyAllWindows()\n",
    "\n"
   ]
  },
  {
   "cell_type": "code",
   "execution_count": 12,
   "metadata": {},
   "outputs": [],
   "source": [
    "img = cv2.imread(DOG_PATH)\n",
    "\n",
    "cropped = img[100:180, 200:270]\n",
    "img[100:180, 190:260] = cropped\n",
    "\n",
    "\n",
    "cv2.imshow(\"Dog\", img)\n",
    "cv2.imshow(\"Dog cropped\", cropped)\n",
    "\n",
    "cv2.waitKey(0)\n",
    "cv2.destroyAllWindows()\n"
   ]
  },
  {
   "cell_type": "markdown",
   "metadata": {},
   "source": [
    "### 5-4 이미지 대칭\n",
    "- 'flipcode > 0' : 좌우 반전(y축 반전)\n",
    "- 'flipcode == 0' : 상하 반전(x축 반전)\n",
    "- 'flipcode < 0' : 상하좌우 반전"
   ]
  },
  {
   "cell_type": "code",
   "execution_count": 13,
   "metadata": {},
   "outputs": [],
   "source": [
    "img = cv2.imcount(DOG_PATH)\n",
    "\n",
    "dst_1 = cv2.flip(img, 1)\n",
    "dst_2 = cv2.flip(img, 0)\n",
    "dst_3 = cv2.flip(img, -1)\n",
    "\n",
    "cv2.imshow(\"img\", img)\n",
    "cv2.imshow(\"dst_1\", dst_1)\n",
    "cv2.imshow(\"dst_1\", dst_2)\n",
    "cv2.imshow(\"dst_1\", dst_3)\n",
    "\n",
    "\n",
    "cv2.waitKey()\n",
    "cv2.destroyAllWindows()"
   ]
  },
  {
   "cell_type": "markdown",
   "metadata": {},
   "source": [
    "### 실습3. 이미지 조정\n"
   ]
  },
  {
   "cell_type": "code",
   "execution_count": 14,
   "metadata": {},
   "outputs": [],
   "source": [
    "import cv2\n",
    "\n",
    "# 이미지 경로 설정\n",
    "IMAGE_PATH = \"images/hanni.jpg\"  # 여기에 이미지 파일 경로를 입력하세요\n",
    "\n",
    "# 이미지 읽기\n",
    "img = cv2.imread(IMAGE_PATH)\n",
    "\n",
    "# 이미지 크기 축소 (가로, 세로 1/2)\n",
    "img2 = cv2.resize(img, None, fx=0.5, fy=0.5)\n",
    "\n",
    "# 축소된 이미지 좌우 반전\n",
    "img3 = cv2.flip(img2, 1)\n",
    "\n",
    "# 원본 이미지에 반전된 이미지 삽입\n",
    "img[img.shape[0] - img3.shape[0]:img.shape[0], img.shape[1] - img3.shape[1]:img.shape[1]] = img3\n",
    "\n",
    "# 결과 출력\n",
    "cv2.imshow(\"Result\", img)\n",
    "cv2.waitKey(0)\n",
    "cv2.destroyAllWindows()\n"
   ]
  },
  {
   "cell_type": "code",
   "execution_count": 15,
   "metadata": {},
   "outputs": [],
   "source": [
    "import cv2\n",
    "\n",
    "IMAGE_PATH = \"images/hanni.jpg\"\n",
    "\n",
    "dst = cv2.pyrDown(img)\n",
    "dst = cv2.flip(dst,1)\n",
    "\n",
    "iheight, iwidth, ichannel = img.shape\n",
    "dheight, dwidth, dchannel = dst.shape\n",
    "\n",
    "img[iheight-dheight:iheight, iwidth-dwidth:iwidth] = dst\n",
    "\n",
    "cv2.imshow(\"img\", img)\n",
    "cv2.waitKey(0)\n",
    "cv2.destroyAllWindows()\n"
   ]
  },
  {
   "cell_type": "code",
   "execution_count": 16,
   "metadata": {},
   "outputs": [
    {
     "name": "stdout",
     "output_type": "stream",
     "text": [
      "[[ 9 37 51 ... 49 49 48]\n",
      " [14 41 54 ... 49 49 48]\n",
      " [20 46 58 ... 49 49 48]\n",
      " ...\n",
      " [21 40 49 ... 36 33 32]\n",
      " [20 40 49 ... 37 33 33]\n",
      " [19 35 47 ... 42 35 34]] [[12 40 53 ... 55 55 53]\n",
      " [17 44 56 ... 55 55 53]\n",
      " [23 49 60 ... 55 55 53]\n",
      " ...\n",
      " [21 40 48 ... 40 37 39]\n",
      " [20 40 48 ... 41 37 40]\n",
      " [22 38 49 ... 46 39 41]] [[17 45 61 ... 62 62 62]\n",
      " [22 49 64 ... 62 62 62]\n",
      " [28 54 68 ... 62 62 62]\n",
      " ...\n",
      " [27 46 57 ... 58 55 56]\n",
      " [26 46 57 ... 59 55 57]\n",
      " [27 43 57 ... 64 57 58]]\n"
     ]
    }
   ],
   "source": [
    "img = cv2.imread(IMAGE_PATH)\n",
    "\n",
    "blue, green, red = cv2.split(img)\n",
    "print(blue, green, red)\n",
    "\n",
    "cv2.imshow(\"Blue\", blue)\n",
    "cv2.imshow(\"Green\", green)\n",
    "cv2.imshow(\"Red\", red)\n",
    "\n",
    "cv2.waitKey(0)\n",
    "cv2.destroyAllWindows()\n"
   ]
  },
  {
   "cell_type": "code",
   "execution_count": 17,
   "metadata": {},
   "outputs": [],
   "source": [
    "img = cv2.imread(IMAGE_PATH)\n",
    "\n",
    "blue, green, red = cv2.split(img)\n",
    "merged_image = cv2.merge([blue,green,red])\n",
    "cv2.imshow(\"merged\", merged_image)\n",
    "\n",
    "cv2.waitKey(0)\n",
    "cv2.destroyAllWindows()"
   ]
  },
  {
   "cell_type": "markdown",
   "metadata": {},
   "source": [
    "### 5-4. 이미지 색상 변경"
   ]
  },
  {
   "cell_type": "code",
   "execution_count": 18,
   "metadata": {},
   "outputs": [],
   "source": [
    "import cv2\n",
    "\n",
    "img = cv2.imread(IMAGE_PATH)\n",
    "gray = cv2.cvtColor(img, cv2.COLOR_BGR2GRAY)\n",
    "rgb = cv2.cvtColor(img, cv2.COLOR_BGR2RGB)\n",
    "\n",
    "cv2.imshow(\"gray\", gray)\n",
    "cv2.imshow(\"rgb\", rgb)\n",
    "\n",
    "cv2.waitKey(0)\n",
    "cv2.destroyAllWindows()\n",
    "\n",
    "\n"
   ]
  },
  {
   "cell_type": "markdown",
   "metadata": {},
   "source": [
    "### 실습4. 이미지 흑백 반전"
   ]
  },
  {
   "cell_type": "code",
   "execution_count": 19,
   "metadata": {},
   "outputs": [
    {
     "ename": "SyntaxError",
     "evalue": "invalid syntax (934773151.py, line 8)",
     "output_type": "error",
     "traceback": [
      "\u001b[1;36m  Cell \u001b[1;32mIn[19], line 8\u001b[1;36m\u001b[0m\n\u001b[1;33m    cv2.imshow(\"Inv\", inverted)q\u001b[0m\n\u001b[1;37m                               ^\u001b[0m\n\u001b[1;31mSyntaxError\u001b[0m\u001b[1;31m:\u001b[0m invalid syntax\n"
     ]
    }
   ],
   "source": [
    "import cv2\n",
    "\n",
    "img = cv2.imread(IMAGE_PATH, cv2.IMREAD_GRAYSCALE)\n",
    "\n",
    "inverted = 255 - img\n",
    "\n",
    "cv2.imshow(\"Ori\", img)\n",
    "cv2.imshow(\"Inv\", inverted)q\n",
    "cv2.waitKey(0)\n",
    "cv2.destroyAllWindows()\n"
   ]
  },
  {
   "cell_type": "markdown",
   "metadata": {},
   "source": [
    "### 5-5 이미지 흐리기(GaussianBlur)"
   ]
  },
  {
   "cell_type": "code",
   "execution_count": 20,
   "metadata": {},
   "outputs": [],
   "source": [
    "img = cv2.imread(IMAGE_PATH)\n",
    "\n",
    "# 커널을 사용하는 방식\n",
    "# (3,3) (5,5) (7,7)을 주로 사용\n",
    "kernel_3 = cv2.GaussianBlur(img, (3,3), 0)\n",
    "kernel_5 = cv2.GaussianBlur(img, (5,5), 0)\n",
    "kernel_7 = cv2.GaussianBlur(img, (7,7), 0)\n",
    "\n",
    "cv2.imshow(\"kernel_3\", kernel_3)\n",
    "cv2.imshow(\"kernel_5\", kernel_5)\n",
    "cv2.imshow(\"kernel_7\", kernel_7)\n",
    "\n",
    "cv2.waitKey(0)\n",
    "cv2.destroyAllWindows()\n",
    "\n"
   ]
  },
  {
   "cell_type": "code",
   "execution_count": 21,
   "metadata": {},
   "outputs": [],
   "source": [
    "import cv2\n",
    "\n",
    "img = cv2.imread(IMAGE_PATH)\n",
    "\n",
    "# 표준편차를 사용하는 방식\n",
    "\n",
    "sigma_3 = cv2.GaussianBlur(img, (0,0), 1)\n",
    "sigma_5 = cv2.GaussianBlur(img, (0,0), 2)\n",
    "sigma_7 = cv2.GaussianBlur(img, (0,0), 3)\n",
    "\n",
    "cv2.imshow(\"sigma_3\", sigma_3)\n",
    "cv2.imshow(\"sigma_5\", sigma_5)\n",
    "cv2.imshow(\"sigma_7\", sigma_7)\n",
    "\n",
    "cv2.waitKey(0)\n",
    "cv2.destroyAllWindows()\n",
    "\n"
   ]
  },
  {
   "cell_type": "markdown",
   "metadata": {},
   "source": [
    "### 5-6. 이미지 회전\n",
    "- rotateCode\n",
    " - 'cv2.ROTATE_90_CLOCKWISE' : 시계방향 90도 회전\n",
    " - 'cv2.ROTATE_180' : 180도 회전\n",
    " - 'cv2.ROTATE_90_COUNTERCLOCKWISE' : 반시계방향 90도 회전\n"
   ]
  },
  {
   "cell_type": "code",
   "execution_count": 22,
   "metadata": {},
   "outputs": [],
   "source": [
    "import cv2\n",
    "\n",
    "img = cv2.imread(IMAGE_PATH)\n",
    "\n",
    "dst_90 = cv2.rotate(img,cv2.ROTATE_90_CLOCKWISE)\n",
    "dst_180 = cv2.rotate(img,cv2.ROTATE_180)\n",
    "dst_90_counter = cv2.rotate(img, cv2.ROTATE_90_COUNTERCLOCKWISE)\n",
    "\n",
    "cv2.imshow(\"dst_90\", dst_90)\n",
    "cv2.imshow(\"dst_180\", dst_180)\n",
    "cv2.imshow(\"dst_90_counter\", dst_90_counter)\n",
    "\n",
    "cv2.waitKey(0)\n",
    "cv2.destroyAllWindows()"
   ]
  },
  {
   "cell_type": "code",
   "execution_count": 24,
   "metadata": {},
   "outputs": [],
   "source": [
    "# affine 변환 사용\n",
    "\n",
    "import cv2\n",
    "\n",
    "img = cv2.imread(IMAGE_PATH)\n",
    "center = (img.shape[1] / 2, img.shape[0] / 2)\n",
    "affine = cv2.getRotationMatrix2D(center, -45, 1)\n",
    "dst = cv2.warpAffine(img, affine, (img.shape[1], img.shape[0]))\n",
    "\n",
    "cv2.imshow(\"Rotate\", dst)\n",
    "\n",
    "\n",
    "cv2.waitKey(0)\n",
    "cv2.destroyAllWindows()"
   ]
  },
  {
   "cell_type": "code",
   "execution_count": 1,
   "metadata": {},
   "outputs": [],
   "source": [
    "import cv2\n",
    "import numpy as np\n",
    "import math\n",
    "\n",
    "img = cv2.imread(\"images/dog.jpg\")\n",
    "rad = 20 * math.pi / 180 \n",
    "affine = np.array([[math.cos(rad), -math.sin(rad), 0],[math.sin(rad), math.cos(rad), 0]], dtype=np.float32)\n",
    "dst = cv2.warpAffine(img, affine, (img.shape[1], img.shape[0]))\n",
    "cv2.imshow(\"rotate\", dst)\n",
    "cv2.waitKey(0)\n",
    "cv2.destroyAllWindows()\n"
   ]
  },
  {
   "cell_type": "code",
   "execution_count": null,
   "metadata": {},
   "outputs": [],
   "source": []
  }
 ],
 "metadata": {
  "kernelspec": {
   "display_name": "my_cv",
   "language": "python",
   "name": "python3"
  },
  "language_info": {
   "codemirror_mode": {
    "name": "ipython",
    "version": 3
   },
   "file_extension": ".py",
   "mimetype": "text/x-python",
   "name": "python",
   "nbconvert_exporter": "python",
   "pygments_lexer": "ipython3",
   "version": "3.13.0"
  }
 },
 "nbformat": 4,
 "nbformat_minor": 2
}
