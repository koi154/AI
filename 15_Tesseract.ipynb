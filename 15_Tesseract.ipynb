{
 "cells": [
  {
   "cell_type": "code",
   "execution_count": 1,
   "metadata": {},
   "outputs": [
    {
     "name": "stdout",
     "output_type": "stream",
     "text": [
      "Collecting pytesseract\n",
      "  Downloading pytesseract-0.3.13-py3-none-any.whl.metadata (11 kB)\n",
      "Requirement already satisfied: packaging>=21.3 in c:\\users\\zer12\\desktop\\git-test\\ai\\my_cv\\lib\\site-packages (from pytesseract) (24.2)\n",
      "Requirement already satisfied: Pillow>=8.0.0 in c:\\users\\zer12\\desktop\\git-test\\ai\\my_cv\\lib\\site-packages (from pytesseract) (11.1.0)\n",
      "Downloading pytesseract-0.3.13-py3-none-any.whl (14 kB)\n",
      "Installing collected packages: pytesseract\n",
      "Successfully installed pytesseract-0.3.13\n",
      "Note: you may need to restart the kernel to use updated packages.\n"
     ]
    },
    {
     "name": "stderr",
     "output_type": "stream",
     "text": [
      "\n",
      "[notice] A new release of pip is available: 24.2 -> 24.3.1\n",
      "[notice] To update, run: python.exe -m pip install --upgrade pip\n"
     ]
    }
   ],
   "source": [
    "%pip install pytesseract"
   ]
  },
  {
   "cell_type": "markdown",
   "metadata": {},
   "source": [
    "## 15. Tesseract - OCR"
   ]
  },
  {
   "cell_type": "code",
   "execution_count": null,
   "metadata": {},
   "outputs": [
    {
     "name": "stdout",
     "output_type": "stream",
     "text": [
      "여스즈\n",
      "OTS\n",
      "\n",
      "영수즘번호:230522-0103-0142-01\n",
      "상호:메이크커피\n",
      "220-09-33826 16.)010-4288-9949 몽진명\n",
      "주소:서물특별시 강남구 강남대로94길 27 (역삼동)\n",
      "\n",
      "1증\n",
      "\n",
      "테이블번호: KIOSK           주문담당자:관리자\n",
      "\n",
      "계산일자:2023-05-22             시간:13:45:06\n",
      "\n",
      "=ae 말인 at\n",
      "\n",
      "아메리카노                      3                  4, 200\n",
      ">> ICE                        3                     0\n",
      "\n",
      "[카 S 번 호] 3565160400“634*\n",
      "[할 부 개 월] 0\n",
      "\n",
      "[카 드 At 명] NHS\n",
      "\n",
      "[승 인 번 호] 51423660\n",
      "\n",
      "[결 제 금 액] 4,200\n",
      "\n",
      "\n"
     ]
    }
   ],
   "source": [
    "import cv2\n",
    "from pytesseract import pytesseract as pyt\n",
    "pyt.tesseract_cmd = r\"C:\\Program Files\\Tesseract-OCR\\tesseract.exe\"\n",
    "img = cv2.imread(\"images/bill.png\", cv2.IMREAD_GRAYSCALE)\n",
    "ret,binary = cv2.threshold(img, -1, 255, cv2.THRESH_BINARY | cv2.THRESH_OTSU)\n",
    "\n",
    "# text1 = pyt.image_to_string(img, lang='kor+eng')\n",
    "text2 = pyt.image_to_string(img, lang='kor+eng')\n",
    "\n",
    "# print(text1)\n",
    "print(text2)\n"
   ]
  },
  {
   "cell_type": "markdown",
   "metadata": {},
   "source": [
    "### 실습4. 이미지에서 글자 인식"
   ]
  },
  {
   "cell_type": "code",
   "execution_count": 13,
   "metadata": {},
   "outputs": [
    {
     "name": "stdout",
     "output_type": "stream",
     "text": [
      "정지\n",
      "STOP\n",
      "\n"
     ]
    }
   ],
   "source": [
    "import cv2\n",
    "from pytesseract import pytesseract as pyt\n",
    "\n",
    "pyt.tesseract_cmd = r\"C:\\Program Files\\Tesseract-OCR\\tesseract.exe\"\n",
    "img = cv2.imread(\"images/stop.png\", cv2.IMREAD_GRAYSCALE)\n",
    "img = img[30:185, 38:184]\n",
    "\n",
    "ret,binary = cv2.threshold(img, -1, 255, cv2.THRESH_BINARY | cv2.THRESH_OTSU)\n",
    "\n",
    "text_1 = pyt.image_to_string(img, lang='kor+eng')\n",
    "\n",
    "print(text_1)\n"
   ]
  },
  {
   "cell_type": "markdown",
   "metadata": {},
   "source": [
    "### 실습4. 이미지에서 글자 인식 (마우스 이벤트) - 리더님\n"
   ]
  },
  {
   "cell_type": "code",
   "execution_count": 24,
   "metadata": {},
   "outputs": [
    {
     "name": "stdout",
     "output_type": "stream",
     "text": [
      "정지\n",
      "STOP,\n",
      "\n"
     ]
    }
   ],
   "source": [
    "import cv2\n",
    "from pytesseract import pytesseract as pyt\n",
    "import numpy as np\n",
    "\n",
    "pyt.tesseract_cmd = r\"C:\\Program Files\\Tesseract-OCR\\tesseract.exe\"\n",
    "\n",
    "img = cv2.imread(\"images/stop.png\")\n",
    "point_list = []\n",
    "\n",
    "# 최종 결과를 출력하는 함수입니다\n",
    "def show_result():\n",
    "    width, height = 300, 300\n",
    "    src = np.array(point_list, dtype=np.float32)\n",
    "    target = np.array([[0, 0], [width, 0], [width, height], [0, height]], dtype=np.float32)\n",
    "    mat = cv2.getPerspectiveTransform(src, target)\n",
    "    # 잘라낸 이미지\n",
    "    result = cv2.warpPerspective(img, mat, (width, height))\n",
    "    \n",
    "    # 그레이스케일로 변환\n",
    "    gray = cv2.cvtColor(result, cv2.COLOR_BGR2GRAY)\n",
    "    _,binary = cv2.threshold(gray, -1, 255, cv2.THRESH_BINARY | cv2.THRESH_OTSU)\n",
    "    extracted_text = pytesseract.image_to_string(result, lang='kor+eng')\n",
    "    text = pyt.image_to_string(binary, lang='kor+eng')\n",
    "    cv2.imshow(\"result\", result)\n",
    "    print(text)\n",
    "\n",
    "\n",
    "# 마우스 이벤트와 함께 실행되는 콜백함수입니다.\n",
    "drawing = False\n",
    "def on_mouse(event, x, y, flags, _):\n",
    "    global drawing\n",
    "    coppied = img.copy()\n",
    "    if event == cv2.EVENT_LBUTTONDOWN:\n",
    "        drawing = True\n",
    "        point_list.append((x, y))\n",
    "\n",
    "    if drawing:\n",
    "        COLOR = (0,255,255)\n",
    "        prev_point = None\n",
    "        for point in point_list:\n",
    "            cv2.circle(coppied, point, 10, COLOR, cv2.FILLED)\n",
    "            if prev_point:\n",
    "                cv2.line(coppied, prev_point, point, COLOR, 4)\n",
    "            prev_point = point\n",
    "\n",
    "        next_point = (x, y)\n",
    "        if len(point_list) == 4:\n",
    "            next_point = point_list[0]\n",
    "            show_result()\n",
    "            drawing = False\n",
    "        cv2.line(coppied, point_list[-1], next_point, COLOR, 4)\n",
    "\n",
    "    cv2.imshow(name, coppied)\n",
    "\n",
    "# 기본적인 코드 실행입니다.\n",
    "name = \"Scanner\"\n",
    "cv2.namedWindow(name)\n",
    "cv2.setMouseCallback(name, on_mouse)\n",
    "cv2.imshow(name, img)\n",
    "cv2.waitKey(0)\n",
    "cv2.destroyAllWindows()\n"
   ]
  },
  {
   "cell_type": "code",
   "execution_count": null,
   "metadata": {},
   "outputs": [],
   "source": []
  }
 ],
 "metadata": {
  "kernelspec": {
   "display_name": "my_cv",
   "language": "python",
   "name": "python3"
  },
  "language_info": {
   "codemirror_mode": {
    "name": "ipython",
    "version": 3
   },
   "file_extension": ".py",
   "mimetype": "text/x-python",
   "name": "python",
   "nbconvert_exporter": "python",
   "pygments_lexer": "ipython3",
   "version": "3.13.0"
  }
 },
 "nbformat": 4,
 "nbformat_minor": 2
}
