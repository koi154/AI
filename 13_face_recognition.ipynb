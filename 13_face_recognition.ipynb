{
 "cells": [
  {
   "cell_type": "markdown",
   "metadata": {},
   "source": [
    "## 13. 얼굴인식"
   ]
  },
  {
   "cell_type": "code",
   "execution_count": 29,
   "metadata": {},
   "outputs": [],
   "source": [
    "import cv2\n",
    "MARU = 'images/maru.png'\n",
    "HANNI = 'images/hanni_1.jpg'\n",
    "FAMILY = 'images/family.jpg'\n",
    "NEWJEANS = 'images/newjeans.jpg'\n",
    "\n"
   ]
  },
  {
   "cell_type": "code",
   "execution_count": 39,
   "metadata": {},
   "outputs": [],
   "source": [
    "face_cascade = cv2.CascadeClassifier('cascade/haarcascade_frontalface_default.xml')\n",
    "eye_cascade = cv2.CascadeClassifier('cascade/haarcascade_eye.xml')\n",
    "\n",
    "img = cv2.imread(NEWJEANS)\n",
    "gray = cv2.cvtColor(img, cv2.COLOR_BGR2GRAY)\n",
    "faces = face_cascade.detectMultiScale(\n",
    "    gray,scaleFactor=1.1, minNeighbors=10, minSize=(20,20)\n",
    ")\n",
    "\n",
    "eyes = eye_cascade.detectMultiScale(\n",
    "    gray, scaleFactor=1.1, minNeighbors=1, maxSize=(10,10)\n",
    ")\n",
    "if len(faces):\n",
    "\n",
    "    for face in faces:\n",
    "        x, y, width, height = face\n",
    "        cv2.rectangle(img, (x, y), (x+width, y+height), (0, 255, 0), 4)\n",
    "\n",
    "if len(eyes):\n",
    "    for eye in eyes:\n",
    "        x, y, width, height = eye\n",
    "        cv2.rectangle(img, (x, y), (x+width, y+height), (255, 0, 255), 3)\n",
    "\n",
    "\n",
    "cv2.imshow('img', img)\n",
    "cv2.waitKey(0)\n",
    "cv2.destroyAllWindows()"
   ]
  },
  {
   "cell_type": "markdown",
   "metadata": {},
   "source": [
    "## Review"
   ]
  },
  {
   "cell_type": "code",
   "execution_count": 6,
   "metadata": {},
   "outputs": [],
   "source": [
    "import cv2\n",
    "\n",
    "#윤곽선 그리기\n",
    "#그레이 스케일(복사) -> 이진화 -> 윤곽선 찾기 -> 윤곽선 그리기\n",
    "img = cv2.imread('images/newjeans.jpg')\n",
    "coppied = img.copy()\n",
    "gray = cv2.cvtColor(coppied, cv2.COLOR_BGR2GRAY)\n",
    "_,binary = cv2.threshold(gray,-1,255, cv2.THRESH_BINARY | cv2.THRESH_OTSU)\n",
    "contours, hierachy = cv2.findContours(binary, cv2.RETR_EXTERNAL, cv2.CHAIN_APPROX_NONE)\n",
    "# cv2.drawContours(coppied, contours, -1, (0, 255, 0), 4)\n",
    "\n",
    "\n",
    "# 윤곽선 박스\n",
    "for contour in contours:\n",
    "    if cv2.contourArea(contour) > 5000:\n",
    "        x,y,w,h = cv2.boundingRect(contour)\n",
    "        cv2.rectangle(coppied, (x, y), (x+w, y+h), (0, 255, 0), 4)\n",
    "\n",
    "\n",
    "\n",
    "cv2.imshow('img', img)\n",
    "cv2.imshow('contours', coppied)\n",
    "\n",
    "cv2.waitKey(0)\n",
    "cv2.destroyAllWindows()\n",
    "\n"
   ]
  },
  {
   "cell_type": "code",
   "execution_count": 8,
   "metadata": {},
   "outputs": [],
   "source": [
    "#얼굴인식\n",
    "face_cascade = cv2.CascadeClassifier('cascade/haarcascade_frontalface_default.xml')\n",
    "img = cv2.imread('images/newjeans.jpg')\n",
    "\n",
    "faces = face_cascade.detectMultiScale(\n",
    "    img,scaleFactor=1.1,minNeighbors=5,minSize=(30,30),maxSize=(200,200)\n",
    ")\n",
    "\n",
    "if len(faces):\n",
    "    for (x, y, w, h) in faces:\n",
    "        cv2.rectangle(img, (x, y), (x+w, y+h), (255, 0, 0), 2)\n",
    "cv2.imshow('img', img)\n",
    "\n",
    "cv2.waitKey(0)\n",
    "cv2.destroyAllWindows()"
   ]
  },
  {
   "cell_type": "code",
   "execution_count": 14,
   "metadata": {},
   "outputs": [],
   "source": [
    "# 영상 얼굴 인식\n",
    "\n",
    "import cv2\n",
    "face_cascade = cv2.CascadeClassifier('cascade/haarcascade_frontalface_default.xml')\n",
    "\n",
    "video_path = \"images/hanni_2.gif\"\n",
    "video_capture = cv2.VideoCapture(video_path)\n",
    "\n",
    "while True:\n",
    "    ret, frame = video_capture.read()\n",
    "\n",
    "    if not ret:\n",
    "        break\n",
    "\n",
    "    gray = cv2.cvtColor(frame, cv2.COLOR_BGR2GRAY)\n",
    "\n",
    "    faces = face_cascade.detectMultiScale(\n",
    "        gray, scaleFactor=1.1, minNeighbors=5, minSize=(30,30), maxSize=(200,200)\n",
    "    )\n",
    "    \n",
    "    for (x, y, w, h) in faces:\n",
    "        cv2.rectangle(frame, (x, y), (x+w, y+h), (255, 0, 0), 2)\n",
    "    \n",
    "    cv2.imshow('Video', frame)\n",
    "\n",
    "    if cv2.waitKey(60) == ord('q'):\n",
    "        break\n",
    "\n",
    "video_capture.release()\n",
    "cv2.destroyAllWindows()\n"
   ]
  },
  {
   "cell_type": "code",
   "execution_count": null,
   "metadata": {},
   "outputs": [],
   "source": []
  }
 ],
 "metadata": {
  "kernelspec": {
   "display_name": "my_cv",
   "language": "python",
   "name": "python3"
  },
  "language_info": {
   "codemirror_mode": {
    "name": "ipython",
    "version": 3
   },
   "file_extension": ".py",
   "mimetype": "text/x-python",
   "name": "python",
   "nbconvert_exporter": "python",
   "pygments_lexer": "ipython3",
   "version": "3.13.0"
  }
 },
 "nbformat": 4,
 "nbformat_minor": 2
}
