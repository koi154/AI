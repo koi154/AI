{
 "cells": [
  {
   "cell_type": "markdown",
   "metadata": {},
   "source": [
    "## 12. 윤곽선 검출\n",
    "- 경계선을 연결한 선\n",
    "- 흑백 이미지 -> 이진화 -> 윤곽선 찾기(findcontours) -> 윤곽선 그리기(drawcontours)"
   ]
  },
  {
   "cell_type": "markdown",
   "metadata": {},
   "source": [
    "### 12-1 윤곽선 검출 기본"
   ]
  },
  {
   "cell_type": "code",
   "execution_count": 2,
   "metadata": {},
   "outputs": [],
   "source": [
    "import cv2\n",
    "GAME = 'images/game.jpg'\n"
   ]
  },
  {
   "cell_type": "code",
   "execution_count": 5,
   "metadata": {},
   "outputs": [],
   "source": [
    "import cv2\n",
    "GAME = 'images/game.jpg'\n",
    "\n",
    "\n",
    "img = cv2.imread(GAME)\n",
    "coppied = img.copy()\n",
    "coppied2 = img.copy()\n",
    "\n",
    "#그레이 스케일로 변환\n",
    "gray = cv2.cvtColor(coppied,cv2.COLOR_BGR2GRAY)\n",
    "\n",
    "# 이진화\n",
    "\n",
    "ret, binary = cv2.threshold(gray, 127, 255, cv2.THRESH_BINARY | cv2.THRESH_OTSU)\n",
    "\n",
    "#윤곽선 찾기 \n",
    "contours, hireachy = cv2.findContours(binary, cv2.RETR_LIST, cv2.CHAIN_APPROX_NONE)\n",
    "# contours2, hireachy2 = cv2.findContours(binary, cv2.RETR_EXTERNAL, cv2.CHAIN_APPROX_SIMPLE)\n",
    "\n",
    "\n",
    "#윤곽선 그리기(-1이면 모든 윤곽선 그림)\n",
    "cv2.drawContours(coppied, contours, -1, (0, 255, 0), 2)\n",
    "cv2.drawContours(coppied2, contours2, -1, (0, 255, 0), 2)\n",
    "\n",
    "\n",
    "cv2.imshow('img',img)\n",
    "cv2.imshow('contours',coppied)\n",
    "cv2.imshow('contours2',coppied2)\n",
    "\n",
    "cv2.waitKey(0)\n",
    "cv2.destroyAllWindows()\n"
   ]
  },
  {
   "cell_type": "markdown",
   "metadata": {},
   "source": [
    "### 12-2 BoundingRect\n",
    "- 윤곽선을 둘러싼 사각형 그리기"
   ]
  },
  {
   "cell_type": "code",
   "execution_count": 9,
   "metadata": {},
   "outputs": [],
   "source": [
    "import cv2\n",
    "GAME = 'images/game.jpg'\n",
    "\n",
    "img = cv2.imread(GAME)\n",
    "coppied = img.copy()\n",
    "\n",
    "gray = cv2.cvtColor(coppied,cv2.COLOR_BGR2GRAY)\n",
    "ret, binary = cv2.threshold(gray, 127, 255, cv2.THRESH_BINARY | cv2.THRESH_OTSU)\n",
    "\n",
    "contours, hireachy = cv2.findContours(binary, cv2.RETR_EXTERNAL, cv2.CHAIN_APPROX_NONE)\n",
    "for contour in contours:\n",
    "    x,y,width,height = cv2.boundingRect(contour)\n",
    "    cv2.rectangle(coppied, (x, y), (x+width, y+height), (0, 255, 0), 2)\n",
    "\n",
    "cv2.imshow('contours',coppied)\n",
    "\n",
    "cv2.waitKey(0)\n",
    "cv2.destroyAllWindows()"
   ]
  },
  {
   "cell_type": "markdown",
   "metadata": {},
   "source": [
    "### 실습3. 순서대로 박스 표시"
   ]
  },
  {
   "cell_type": "code",
   "execution_count": 20,
   "metadata": {},
   "outputs": [],
   "source": [
    "import cv2\n",
    "VEHICLES = 'images/vehicles.png'"
   ]
  },
  {
   "cell_type": "markdown",
   "metadata": {},
   "source": [
    "### def문 사용"
   ]
  },
  {
   "cell_type": "code",
   "execution_count": 24,
   "metadata": {},
   "outputs": [],
   "source": [
    "img = cv2.imread(VEHICLES)\n",
    "coppied = img.copy()\n",
    "\n",
    "#그레이 스케일로 변환\n",
    "gray = cv2.cvtColor(coppied,cv2.COLOR_BGR2GRAY)\n",
    "# 이진화\n",
    "ret, binary = cv2.threshold(gray, 127, 255, cv2.THRESH_BINARY | cv2.THRESH_OTSU)\n",
    "#윤곽선 찾기 \n",
    "contours, hireachy = cv2.findContours(binary, cv2.RETR_EXTERNAL, cv2.CHAIN_APPROX_SIMPLE)\n",
    "\n",
    "def on_trackbar(value):\n",
    "    index = cv2.getTrackbarPos('index', 'contours')\n",
    "\n",
    "    temp = coppied.copy()\n",
    "\n",
    "    cv2.drawContours(temp, contours, index, (0, 255, 0), 2)\n",
    "\n",
    "    cv2.imshow('contours', temp)\n",
    "\n",
    "cv2.imshow('contours', coppied)\n",
    "\n",
    "cv2.createTrackbar('index', 'contours', 0, len(contours)-1, on_trackbar)\n",
    "\n",
    "cv2.waitKey(0)\n",
    "cv2.destroyAllWindows()\n",
    "\n"
   ]
  },
  {
   "cell_type": "markdown",
   "metadata": {},
   "source": [
    "### while True문 사용\n"
   ]
  },
  {
   "cell_type": "code",
   "execution_count": 11,
   "metadata": {},
   "outputs": [],
   "source": [
    "img = cv2.imread(VEHICLES)\n",
    "coppied = img.copy()\n",
    "\n",
    "#그레이 스케일로 변환\n",
    "gray = cv2.cvtColor(coppied,cv2.COLOR_BGR2GRAY)\n",
    "# 이진화\n",
    "ret, binary = cv2.threshold(gray, 127, 255, cv2.THRESH_BINARY | cv2.THRESH_OTSU)\n",
    "#윤곽선 찾기 \n",
    "contours, hireachy = cv2.findContours(binary, cv2.RETR_EXTERNAL, cv2.CHAIN_APPROX_SIMPLE)\n",
    "\n",
    "cv2.imshow('contours', coppied)\n",
    "cv2.createTrackbar('index', 'contours', 0, len(contours) - 1, lambda x: None)\n",
    "while True:\n",
    "    index = cv2.getTrackbarPos('index', 'contours')\n",
    "    temp = coppied.copy()\n",
    "    cv2.drawContours(temp, contours, index, (0, 255, 0), 2)\n",
    "    cv2.imshow('contours', temp)\n",
    "\n",
    "    if cv2.waitKey(1) == ord('q'):\n",
    "        break\n",
    "\n",
    "cv2.destroyAllWindows()\n"
   ]
  },
  {
   "cell_type": "markdown",
   "metadata": {},
   "source": [
    "### 윤곽선 경계 사각형(면적 적용)"
   ]
  },
  {
   "cell_type": "code",
   "execution_count": 13,
   "metadata": {},
   "outputs": [],
   "source": [
    "import cv2\n",
    "VEHICLES = 'images/vehicles.png'\n",
    "\n",
    "img = cv2.imread(VEHICLES)\n",
    "\n",
    "gray = cv2.cvtColor(img,cv2.COLOR_BGR2GRAY)\n",
    "ret, binary = cv2.threshold(gray, 127, 255, cv2.THRESH_BINARY | cv2.THRESH_OTSU)\n",
    "contours, hireachy = cv2.findContours(binary, cv2.RETR_EXTERNAL, cv2.CHAIN_APPROX_SIMPLE)\n",
    "\n",
    "cv2.imshow('contours', img)\n",
    "cv2.createTrackbar('index', 'contours', 0, len(contours) - 1, lambda x: None)\n",
    "\n",
    "while True:\n",
    "        index = cv2.getTrackbarPos('index', 'contours')\n",
    "        temp = img.copy()\n",
    "\n",
    "        if cv2.contourArea(contours[index]) > 1000:\n",
    "            x, y, width, height = cv2.boundingRect(contours[index])\n",
    "            cv2.rectangle(temp, (x, y), (x+width, y+height), (0, 255, 0), 2)\n",
    "\n",
    "        cv2.imshow('contours', temp)\n",
    "\n",
    "        if cv2.waitKey(1) == ord('q'):\n",
    "                break\n",
    "\n",
    "cv2.destroyAllWindows()"
   ]
  },
  {
   "cell_type": "markdown",
   "metadata": {},
   "source": [
    "### 실습3. 순서대로 박스 표시 (리더님)"
   ]
  },
  {
   "cell_type": "code",
   "execution_count": 17,
   "metadata": {},
   "outputs": [],
   "source": [
    "img = cv2.imread(\"images/vehicles.png\")\n",
    "coppied = img.copy()\n",
    "name = \"Vehicles\"\n",
    "cv2.namedWindow(name)\n",
    "\n",
    "# 윤곽선을 찾고 : 그레이스케일 -> 이진화 -> findContours\n",
    "gray = cv2.cvtColor(coppied, cv2.COLOR_BGR2GRAY)\n",
    "ret, binary = cv2.threshold(gray, -1, 255, cv2.THRESH_BINARY | cv2.THRESH_OTSU)\n",
    "contours, hierachy = cv2.findContours(binary, cv2.RETR_EXTERNAL, cv2.CHAIN_APPROX_SIMPLE)\n",
    "\n",
    "# 윤곽선의 인덱스를 선택해서 -> 트랙바이용 -> while\n",
    "cv2.createTrackbar(\"Index\", name, 0, len(contours)-1, lambda x:x)\n",
    "\n",
    "while True:\n",
    "    target = img.copy()\n",
    "    index = cv2.getTrackbarPos(\"Index\", name)\n",
    "\n",
    "    # 해당 인덱스의 contour의 bounding rect를 추출하고 -> cv2.boundingRect\n",
    "    x, y, width, height = cv2.boundingRect(contours[index])\n",
    "\n",
    "    # contours[i] -> rect\n",
    "    # 화면에 사각형을 그린다다 -> cv2.rectangle\n",
    "    cv2.rectangle(target, (x,y), (x+width, y+height), (0,255,0), 2)\n",
    "    cv2.imshow(name, target)\n",
    "\n",
    "    if cv2.waitKey(1) == ord(\"q\"):\n",
    "        break\n",
    "\n",
    "cv2.destroyAllWindows()"
   ]
  },
  {
   "cell_type": "markdown",
   "metadata": {},
   "source": [
    "### 12-3. contourArea\n",
    "- 윤곽선의 면적을 계산해줌"
   ]
  },
  {
   "cell_type": "code",
   "execution_count": 21,
   "metadata": {},
   "outputs": [],
   "source": [
    "img = cv2.imread(\"images/vehicles.png\")\n",
    "coppied = img.copy()\n",
    "name = \"Vehicles\"\n",
    "cv2.namedWindow(name)\n",
    "\n",
    "gray = cv2.cvtColor(coppied, cv2.COLOR_BGR2GRAY)\n",
    "ret, binary = cv2.threshold(gray, -1, 255, cv2.THRESH_BINARY | cv2.THRESH_OTSU)\n",
    "contours, hierachy = cv2.findContours(binary, cv2.RETR_EXTERNAL, cv2.CHAIN_APPROX_SIMPLE)\n",
    "\n",
    "# 윤곽선의 면적이 특정 크기 이상인 윤곽선을 새로운 리스트에 저장\n",
    "MIN_AREA = 1000\n",
    "fillterd_contours = []\n",
    "for contour in contours:\n",
    "    if cv2.contourArea(contour) > MIN_AREA:\n",
    "        fillterd_contours.append(contour)\n",
    "\n",
    "cv2.createTrackbar(\"Index\", name, 0, len(fillterd_contours)-1, lambda x:x)\n",
    "\n",
    "while True:\n",
    "    target = img.copy()\n",
    "    index = cv2.getTrackbarPos(\"Index\", name)\n",
    "    cv2.contourArea(fillterd_contours[index])\n",
    "\n",
    "    x, y, width, height = cv2.boundingRect(fillterd_contours[index])\n",
    "\n",
    "    cv2.rectangle(target, (x,y), (x+width, y+height), (0,255,0), 2)\n",
    "    cv2.imshow(name, target)\n",
    "\n",
    "    if cv2.waitKey(1) == ord(\"q\"):\n",
    "        break\n",
    "\n",
    "cv2.destroyAllWindows()"
   ]
  },
  {
   "cell_type": "markdown",
   "metadata": {},
   "source": [
    "### 실습4. 카드 하나씩 새 창에 표시"
   ]
  },
  {
   "cell_type": "code",
   "execution_count": 4,
   "metadata": {},
   "outputs": [],
   "source": [
    "import cv2\n",
    "img = cv2.imread(\"images/playing_cards.png\")"
   ]
  },
  {
   "cell_type": "code",
   "execution_count": 10,
   "metadata": {},
   "outputs": [],
   "source": [
    "img = cv2.imread(\"images/playing_cards.png\")\n",
    "coppied = img.copy()\n",
    "name = \"CARD\"\n",
    "cv2.namedWindow(name)\n",
    "\n",
    "gray = cv2.cvtColor(img, cv2.COLOR_BGR2GRAY)\n",
    "ret, binary = cv2.threshold(gray, 127, 255, cv2.THRESH_BINARY | cv2.THRESH_OTSU)\n",
    "contours, hierachy = cv2.findContours(binary, cv2.RETR_EXTERNAL, cv2.CHAIN_APPROX_SIMPLE)\n",
    "\n",
    "MIN_AREA = 1000\n",
    "fillterd_contours = []\n",
    "for contour in contours:\n",
    "    if cv2.contourArea(contour) > MIN_AREA:\n",
    "        fillterd_contours.append(contour)\n",
    "\n",
    "cv2.createTrackbar(\"Index\", name, 0, len(fillterd_contours)-1, lambda x:x)\n",
    "\n",
    "while True:\n",
    "    target = img.copy()\n",
    "    index = cv2.getTrackbarPos(\"Index\", name)\n",
    "    cv2.contourArea(fillterd_contours[index])\n",
    "\n",
    "    x, y, width, height = cv2.boundingRect(fillterd_contours[index])\n",
    "\n",
    "    cv2.rectangle(target, (x,y), (x+width, y+height), (0,255,0), 2)\n",
    "    card = img[y:y + height, x:x + width]\n",
    "    cv2.imshow(f\"Card {index + 1}\", card)\n",
    "    cv2.imshow(name, target)\n",
    "\n",
    "    if cv2.waitKey(1) == ord(\"q\"):\n",
    "        break\n",
    "\n",
    "cv2.destroyAllWindows()"
   ]
  },
  {
   "cell_type": "markdown",
   "metadata": {},
   "source": [
    "### 실습4. 리더님"
   ]
  },
  {
   "cell_type": "code",
   "execution_count": 15,
   "metadata": {},
   "outputs": [],
   "source": [
    "import cv2\n",
    "img = cv2.imread(\"images/playing_cards.png\")\n",
    "coppied = img.copy()\n",
    "\n",
    "gray = cv2.cvtColor(img, cv2.COLOR_BGR2GRAY)\n",
    "ret, binary = cv2.threshold(gray, 127, 255, cv2.THRESH_BINARY | cv2.THRESH_OTSU)\n",
    "contours, hierachy = cv2.findContours(binary, cv2.RETR_EXTERNAL, cv2.CHAIN_APPROX_SIMPLE)\n",
    "\n",
    "for idx, contour in enumerate(contours): #enumerate : index를 불러온다.\n",
    "    # print(cv2.contourArea(contour)) # 사이즈 체크\n",
    "    if cv2.contourArea(contour) > 25000:\n",
    "        x, y, width, height = cv2.boundingRect(contour)\n",
    "        cv2.rectangle(img, (x, y), (x+width, y+height), (0,255,0), 2)\n",
    "        crop = img[y:y + height, x:x + width]\n",
    "        crop =cv2.resize(crop, None, fx=2, fy=2)\n",
    "        cv2.imshow(f\"Card {idx}\", crop)\n",
    "\n",
    "# cv2.drawContours(img, contours, -1, (0, 255, 0), 2)\n",
    "cv2.imshow(\"img\", img)\n",
    "cv2.waitKey(0)\n",
    "cv2.destroyAllWindows()\n",
    "\n"
   ]
  },
  {
   "cell_type": "markdown",
   "metadata": {},
   "source": [
    "### 실습 4-1 트래바를 붙여서 카드 하나씩 새 창에 열고, 이전 창 닫기"
   ]
  },
  {
   "cell_type": "code",
   "execution_count": 12,
   "metadata": {},
   "outputs": [],
   "source": [
    "import cv2\n",
    "img = cv2.imread(\"images/many_cards.png\")\n",
    "coppied = img.copy()\n",
    "name = \"CARD\"\n",
    "cv2.namedWindow(name)\n",
    "\n",
    "gray = cv2.cvtColor(img, cv2.COLOR_BGR2GRAY)\n",
    "ret, binary = cv2.threshold(gray, 127, 255, cv2.THRESH_BINARY | cv2.THRESH_OTSU)\n",
    "contours, hierachy = cv2.findContours(binary, cv2.RETR_EXTERNAL, cv2.CHAIN_APPROX_SIMPLE)\n",
    "\n",
    "MIN_AREA = 1000\n",
    "fillterd_contours = []\n",
    "for contour in contours:\n",
    "    if cv2.contourArea(contour) > MIN_AREA:\n",
    "        fillterd_contours.append(contour)\n",
    "\n",
    "cv2.createTrackbar(\"Index\", name, 0, len(fillterd_contours)-1, lambda x:x)\n",
    "\n",
    "previous_window = None\n",
    "\n",
    "\n",
    "while True:\n",
    "    target = img.copy()\n",
    "    index = cv2.getTrackbarPos(\"Index\", name)\n",
    "    \n",
    "    if 0<= index < len(fillterd_contours):\n",
    "        x, y, width, height = cv2.boundingRect(fillterd_contours[index])\n",
    "\n",
    "        cv2.rectangle(target, (x,y), (x+width, y+height), (0,255,0), 2)\n",
    "        card = img[y:y + height, x:x + width]\n",
    "        current_window = f\"Card {index + 1}\"\n",
    "\n",
    "        if previous_window and previous_window != current_window:\n",
    "            cv2.destroyWindow(previous_window)\n",
    "\n",
    "        cv2.imshow(current_window, card)\n",
    "        previous_window = current_window\n",
    "\n",
    "        cv2.imshow(name, target)\n",
    "\n",
    "        if cv2.waitKey(1) == ord(\"q\"):\n",
    "            break\n",
    "\n",
    "cv2.destroyAllWindows()"
   ]
  },
  {
   "cell_type": "code",
   "execution_count": null,
   "metadata": {},
   "outputs": [],
   "source": []
  }
 ],
 "metadata": {
  "kernelspec": {
   "display_name": "my_cv",
   "language": "python",
   "name": "python3"
  },
  "language_info": {
   "codemirror_mode": {
    "name": "ipython",
    "version": 3
   },
   "file_extension": ".py",
   "mimetype": "text/x-python",
   "name": "python",
   "nbconvert_exporter": "python",
   "pygments_lexer": "ipython3",
   "version": "3.13.0"
  }
 },
 "nbformat": 4,
 "nbformat_minor": 2
}
