{
 "cells": [
  {
   "cell_type": "markdown",
   "metadata": {},
   "source": [
    "## 03. 도형 그리기"
   ]
  },
  {
   "cell_type": "code",
   "execution_count": 1,
   "metadata": {},
   "outputs": [],
   "source": [
    "import cv2\n",
    "import numpy as np\n"
   ]
  },
  {
   "cell_type": "markdown",
   "metadata": {},
   "source": [
    "### 3-1 빈 화면 만들기\n",
    "- int : -128 ~ 127 vs uint 0 ~ 255 "
   ]
  },
  {
   "cell_type": "code",
   "execution_count": 5,
   "metadata": {},
   "outputs": [],
   "source": [
    "img = np.zeros((460,640,3), dtype=np.uint8)\n",
    "img[:] = (255,255,255) # 흰색 배경\n",
    "\n",
    "cv2.imshow(\"blank\", img)\n",
    "cv2.waitKey(0)\n",
    "cv2.destroyAllWindows()"
   ]
  },
  {
   "cell_type": "markdown",
   "metadata": {},
   "source": [
    "### 3-2 일부 영역 색칠"
   ]
  },
  {
   "cell_type": "code",
   "execution_count": 13,
   "metadata": {},
   "outputs": [],
   "source": [
    "img = np.zeros((460,640,3), dtype=np.uint8)\n",
    "img[200:300, 300:400] = (255,255,3) \n",
    "\n",
    "cv2.imshow(\"blank\", img)\n",
    "cv2.waitKey(0)\n",
    "cv2.destroyAllWindows()"
   ]
  },
  {
   "cell_type": "markdown",
   "metadata": {},
   "source": [
    "### 3-3 선 그리기\n",
    "- `cv2.LINE_4` : 상하좌우 4방향으로 연결된 선\n",
    "- `cv2.LINE_8` : 대각선을 포함한 8 방향 연결된 선 (기본값) \n",
    "- `cv2.LINE_AA` : 부드러운 선(anti-aliasing 적용)\n"
   ]
  },
  {
   "cell_type": "code",
   "execution_count": null,
   "metadata": {},
   "outputs": [
    {
     "data": {
      "text/plain": [
       "<function destroyAllWindows>"
      ]
     },
     "execution_count": 4,
     "metadata": {},
     "output_type": "execute_result"
    }
   ],
   "source": [
    "img = np.zeros((460,640,3), dtype=np.uint8)\n",
    "\n",
    "COLOR = (255,255,255)\n",
    "THICNESS = 5\n",
    "\n",
    "# cv2.line(이미지,시작,끝,색상,두께)\n",
    "cv2.line(img, (50,100), (400,50), (255,0,0), 5, cv2.LINE_4)\n",
    "cv2.line(img, (50,200), (400,150), (255,100,100), 5, cv2.LINE_8)\n",
    "cv2.line(img, (50,300), (400,250), (255,200,200), 5, cv2.LINE_AA)\n",
    "\n",
    "cv2.imshow(\"line\", img)\n",
    "cv2.waitKey(0)\n",
    "cv2.destroyAllWindows"
   ]
  },
  {
   "cell_type": "markdown",
   "metadata": {},
   "source": [
    "### 3-4. 원 그리기"
   ]
  },
  {
   "cell_type": "code",
   "execution_count": 4,
   "metadata": {},
   "outputs": [
    {
     "data": {
      "text/plain": [
       "<function destroyAllWindows>"
      ]
     },
     "execution_count": 4,
     "metadata": {},
     "output_type": "execute_result"
    }
   ],
   "source": [
    "img = np.zeros((460,640,3), dtype=np.uint8)\n",
    "\n",
    "RADOIS = 50\n",
    "COLOR = (0,255,0)\n",
    "THICNESS = 10\n",
    "\n",
    "#속이 비어있는 원\n",
    "cv2.circle(img, (200,300), RADOIS, COLOR, THICNESS, cv2.LINE_AA)\n",
    "#속이 꽉 찬 원\n",
    "cv2.circle(img, (400,230), RADOIS, COLOR, cv2.FILLED, cv2.LINE_AA)\n",
    "\n",
    "cv2.imshow(\"line\", img)\n",
    "cv2.waitKey(0)\n",
    "cv2.destroyAllWindows\n"
   ]
  },
  {
   "cell_type": "markdown",
   "metadata": {},
   "source": [
    "### 3-5 타원 그리기"
   ]
  },
  {
   "cell_type": "code",
   "execution_count": 6,
   "metadata": {},
   "outputs": [],
   "source": [
    "img = np.zeros((460,640,3), dtype=np.uint8)\n",
    "\n",
    "cv2.ellipse(img, (300,200), (100,50), 0, 0, 270, (0,0,255), 5, cv2.LINE_AA)\n",
    "cv2.imshow(\"ellipse\", img)\n",
    "cv2.waitKey(0)\n",
    "cv2.destroyAllWindows()"
   ]
  },
  {
   "cell_type": "markdown",
   "metadata": {},
   "source": [
    "### 3-6 사각형 그리기"
   ]
  },
  {
   "cell_type": "code",
   "execution_count": 11,
   "metadata": {},
   "outputs": [],
   "source": [
    "img = np.zeros((460,640,3), dtype=np.uint8)\n",
    "\n",
    "cv2.rectangle(img, (50,50), (250,250), (255,255,0), 10, cv2.LINE_AA)\n",
    "cv2.rectangle(img, (260,50), (460,250), (255,255,0), cv2.FILLED, cv2.LINE_AA)\n",
    "\n",
    "cv2.imshow(\"rectangle\", img)\n",
    "cv2.waitKey(0)\n",
    "cv2.destroyAllWindows()"
   ]
  },
  {
   "cell_type": "markdown",
   "metadata": {},
   "source": [
    "### 3-7. 다각형(선)"
   ]
  },
  {
   "cell_type": "code",
   "execution_count": 9,
   "metadata": {},
   "outputs": [
    {
     "data": {
      "text/plain": [
       "<function destroyAllWindows>"
      ]
     },
     "execution_count": 9,
     "metadata": {},
     "output_type": "execute_result"
    }
   ],
   "source": [
    "img = np.zeros((460,640,3), dtype=np.uint8)\n",
    "\n",
    "pts = np.array([[[100,100], [200,100], [100,200]]], dtype=np.int32)\n",
    "\n",
    "cv2.polylines(img, pts, False, (255,0,255), 5)\n",
    "cv2.imshow(\"polylines\", img)\n",
    "cv2.waitKey(0)\n",
    "cv2.destroyAllWindows"
   ]
  },
  {
   "cell_type": "markdown",
   "metadata": {},
   "source": [
    "### 3-8 다각형(채우기)"
   ]
  },
  {
   "cell_type": "code",
   "execution_count": null,
   "metadata": {},
   "outputs": [
    {
     "data": {
      "text/plain": [
       "<function destroyAllWindows>"
      ]
     },
     "execution_count": 14,
     "metadata": {},
     "output_type": "execute_result"
    }
   ],
   "source": [
    "img = np.zeros((460,640,3), dtype=np.uint8)\n",
    "\n",
    "pts = np.array([[[100,100], [200,100], [100,200]]], dtype=np.int32)\n",
    "\n",
    "cv2.fillPoly(img, pts, (255,0,255))\n",
    "cv2.imshow(\"fillPoly\", img)\n",
    "cv2.waitKey(0)\n",
    "cv2.destroyAllWindows\n"
   ]
  },
  {
   "cell_type": "markdown",
   "metadata": {},
   "source": [
    "### 실습1. 도형 그려보기"
   ]
  },
  {
   "cell_type": "code",
   "execution_count": 19,
   "metadata": {},
   "outputs": [
    {
     "data": {
      "text/plain": [
       "<function destroyAllWindows>"
      ]
     },
     "execution_count": 19,
     "metadata": {},
     "output_type": "execute_result"
    }
   ],
   "source": [
    "\n",
    "import cv2\n",
    "import numpy as np\n",
    "\n",
    "\n",
    "\n",
    "img = np.zeros((460,640,3), dtype=np.uint8)\n",
    "pts = np.array([[[100,150], [200,50], [50,100]]], dtype=np.int32)\n",
    "pts2 = np.array([[[400, 350], [300, 250], [450, 300]]], dtype=np.int32)\n",
    "\n",
    "# 직선그리기(이미지,시작,끝,색상,두께,종류)\n",
    "cv2.line(img, (50,100), (100,100), (255,200,200), 5, cv2.LINE_AA)\n",
    "# 원그리기(이미지,시작,크기,색상,두께)\n",
    "cv2.circle(img, (150,200), 50, (0,255,0), 10, cv2.LINE_AA)\n",
    "# 타원그리기(img, center, axes, angle, startAngle, endAngle, color, thickness, lineType)\n",
    "cv2.ellipse(img, (300,200), (100,50), 0, 0, 360, (0,0,255), 5, cv2.LINE_AA)\n",
    "# 사각형 그리기(시작,끝,색깔,두께)\n",
    "cv2.rectangle(img, (250,200), (300,350), (255,255,0), 10, cv2.LINE_AA)\n",
    "# 다각형 선으로 그리기\n",
    "cv2.polylines(img, [pts], isClosed=True, color=(255, 0, 0), thickness=3)  \n",
    "# 다각형 채우기\n",
    "cv2.fillPoly(img, [pts2], color=(0, 255, 0)) \n",
    "\n",
    "cv2.imshow(\"total\", img)\n",
    "cv2.waitKey(0)\n",
    "cv2.destroyAllWindows"
   ]
  },
  {
   "cell_type": "markdown",
   "metadata": {},
   "source": []
  },
  {
   "cell_type": "code",
   "execution_count": null,
   "metadata": {},
   "outputs": [],
   "source": []
  }
 ],
 "metadata": {
  "kernelspec": {
   "display_name": "my_cv",
   "language": "python",
   "name": "python3"
  },
  "language_info": {
   "codemirror_mode": {
    "name": "ipython",
    "version": 3
   },
   "file_extension": ".py",
   "mimetype": "text/x-python",
   "name": "python",
   "nbconvert_exporter": "python",
   "pygments_lexer": "ipython3",
   "version": "3.13.0"
  }
 },
 "nbformat": 4,
 "nbformat_minor": 2
}
