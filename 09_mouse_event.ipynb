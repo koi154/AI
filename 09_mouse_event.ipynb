{
 "cells": [
  {
   "cell_type": "markdown",
   "metadata": {},
   "source": [
    "## 09.마우스 이벤트"
   ]
  },
  {
   "cell_type": "code",
   "execution_count": 16,
   "metadata": {},
   "outputs": [],
   "source": [
    "import cv2\n",
    "\n",
    "img = cv2.imread(\"images/hanni.jpg\")\n",
    "name = \"Mouse event\"\n",
    "cv2.namedWindow(name)\n",
    "\n",
    "\n",
    "def on_mouse(event, x, y, flags, _):\n",
    "    if event == cv2.EVENT_LBUTTONDOWN:\n",
    "        # print(\"이벤트 작동\")# 왼쪽 클릭\n",
    "    # print(x,y)\n",
    "        copied =img.copy() # 점 1개씩만 출력\n",
    "        cv2.circle(copied,(x,y), 20, (255,255,0), cv2.FILLED)\n",
    "        cv2.imshow(name, copied)\n",
    "\n",
    "cv2.setMouseCallback(name, on_mouse)\n",
    "cv2.imshow(name, img)\n",
    "cv2.waitKey(0)\n",
    "cv2.destroyAllWindows()\n"
   ]
  },
  {
   "cell_type": "markdown",
   "metadata": {},
   "source": [
    "## 미니 프로젝트 - 1"
   ]
  },
  {
   "cell_type": "code",
   "execution_count": 11,
   "metadata": {},
   "outputs": [],
   "source": [
    "import cv2\n",
    "import numpy as np\n",
    "\n",
    "img = cv2.imread(\"images/card.jpg\")\n",
    "temp_img = img.copy()\n",
    "point_list = []\n",
    "\n",
    "def show_result():\n",
    "    if len(point_list) == 4:\n",
    "        cv2.line(img, point_list[-1], point_list[0], (0, 0, 255), 2)\n",
    "        cv2.imshow(name, img)\n",
    "        \n",
    "\n",
    "        src = np.array(point_list, dtype=np.float32)\n",
    "        width, height = 400, 400  # 변환할 이미지 크기\n",
    "        src = np.array([[55, 259], [983, 123], [1205, 556], [196, 735]], dtype=np.float32)\n",
    "        pts2 = np.float32([[0, 0], [width, 0], [width, height], [0, height]])\n",
    "        matrix = cv2.getPerspectiveTransform(src, pts2)\n",
    "        result = cv2.warpPerspective(img, matrix, (width, height))\n",
    "\n",
    "        cv2.imshow(\"Result\", result)\n",
    "        cv2.waitKey(0)\n",
    "        cv2.destroyAllWindows()\n",
    "\n",
    "# 마우스 이벤트와 함께 실행되는 콜백함수\n",
    "def onMouse(event, x, y, flags, _):\n",
    "    global temp_img\n",
    "    temp_img = img.copy()\n",
    "    \n",
    "    if event == cv2.EVENT_LBUTTONDOWN and len(point_list) < 4:  \n",
    "        point_list.append((x, y))\n",
    "\n",
    "    for i in range(len(point_list)):\n",
    "        cv2.circle(temp_img, (x, y), 10, (255, 255, 0), -1)  # 클릭된 점 표시\n",
    "        if i > 0:\n",
    "            cv2.line(temp_img, point_list[i - 1], point_list[1], (0, 0, 255), 10)\n",
    "    \n",
    "    if len(point_list) > 0 and event == cv2.EVENT_MOUSEMOVE:\n",
    "        cv2.line(temp_img, point_list[-1], (x, y), (0, 0, 255), 5)\n",
    "    \n",
    "    cv2.imshow(name, temp_img)\n",
    "\n",
    "    if len(point_list) == 4:\n",
    "        show_result() \n",
    "\n",
    "# 기본적인 코드 실행입니다.\n",
    "name = \"Scanner\"\n",
    "cv2.namedWindow(name)\n",
    "cv2.setMouseCallback(name, onMouse)\n",
    "cv2.imshow(name, img)\n",
    "cv2.waitKey(0)\n",
    "cv2.destroyAllWindows()"
   ]
  },
  {
   "cell_type": "markdown",
   "metadata": {},
   "source": [
    "### 미니 프로젝트 -1 (리더님)"
   ]
  },
  {
   "cell_type": "code",
   "execution_count": 12,
   "metadata": {},
   "outputs": [],
   "source": [
    "import cv2\n",
    "import numpy as np\n",
    "\n",
    "img = cv2.imread(\"images/card.jpg\")\n",
    "point_list = []\n",
    "\n",
    "# 최종 결과를 출력하는 함수입니다\n",
    "def show_result():\n",
    "  width, height = 600, 350\n",
    "  src = np.array(point_list, dtype=np.float32)\n",
    "  # src = np.float32(point_list)\n",
    "  target = np.array([[0,0], [width, 0], [width, height], [0, height]], dtype=np.float32)\n",
    "  mat = cv2.getPerspectiveTransform(src, target)\n",
    "  result = cv2.warpPerspective(img, mat, (width, height))\n",
    "  cv2.imshow(\"result\", result)\n",
    "\n",
    "# 마우스 이벤트와 함께 실행되는 콜백함수입니다.\n",
    "drawing = False\n",
    "def on_mouse(event, x, y, flags, _):\n",
    "  global drawing\n",
    "  coppied = img.copy()\n",
    "  if event == cv2.EVENT_LBUTTONDOWN:\n",
    "    drawing = True\n",
    "    point_list.append((x,y))\n",
    "\n",
    "  if drawing:\n",
    "    prev_point = None\n",
    "    for point in point_list:\n",
    "      cv2.circle(coppied, point, 10, (0,0,255), cv2.FILLED)\n",
    "      if prev_point:\n",
    "        cv2.line(coppied, prev_point, point, (0,0,255), 5)\n",
    "      prev_point = point\n",
    "\n",
    "    next_point = (x,y)\n",
    "    if len(point_list) == 4:\n",
    "      next_point = point_list[0]\n",
    "      show_result()\n",
    "    cv2.line(coppied, point_list[-1], next_point, (0,0,255), 5)\n",
    "\n",
    "  cv2.imshow(name, coppied)\n",
    "\n",
    "# 기본적인 코드 실행입니다.\n",
    "name = \"Scanner\"\n",
    "cv2.namedWindow(name)\n",
    "cv2.setMouseCallback(name, on_mouse)\n",
    "cv2.imshow(name, img)\n",
    "cv2.waitKey(0)\n",
    "cv2.destroyAllWindows()"
   ]
  },
  {
   "cell_type": "code",
   "execution_count": null,
   "metadata": {},
   "outputs": [],
   "source": []
  },
  {
   "cell_type": "code",
   "execution_count": null,
   "metadata": {},
   "outputs": [],
   "source": []
  }
 ],
 "metadata": {
  "kernelspec": {
   "display_name": "my_cv",
   "language": "python",
   "name": "python3"
  },
  "language_info": {
   "codemirror_mode": {
    "name": "ipython",
    "version": 3
   },
   "file_extension": ".py",
   "mimetype": "text/x-python",
   "name": "python",
   "nbconvert_exporter": "python",
   "pygments_lexer": "ipython3",
   "version": "3.13.0"
  }
 },
 "nbformat": 4,
 "nbformat_minor": 2
}
