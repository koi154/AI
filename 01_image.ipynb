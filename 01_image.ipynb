{
 "cells": [
  {
   "cell_type": "markdown",
   "metadata": {},
   "source": [
    "## 01. 이미지 입출력"
   ]
  },
  {
   "cell_type": "code",
   "execution_count": 3,
   "metadata": {},
   "outputs": [],
   "source": [
    "import cv2\n",
    "DOG_PATH = \"images/dog.jpg\" # jpg \n",
    "DOG_DOG_PATH = \"images/dogdog.jpg\" # jpg "
   ]
  },
  {
   "cell_type": "code",
   "execution_count": 4,
   "metadata": {},
   "outputs": [
    {
     "name": "stdout",
     "output_type": "stream",
     "text": [
      "113\n"
     ]
    }
   ],
   "source": [
    "img = cv2.imread(\"images/dog.jpg\")\n",
    "# print(img) #숫자로 변환되서 출력\n",
    "cv2.imshow(\"Image\", img) # 이것만 실행하면 프로그램 창 에러 뜸\n",
    "key = cv2.waitKey(5000) # 0 이면 무한대기\n",
    "print(key) # key를 받아와 키 입력시 아스키코드로 받아옴 / key 입력 없으면 -1\n",
    "cv2.destroyAllWindows() #모든 창을 닫음\n"
   ]
  },
  {
   "cell_type": "markdown",
   "metadata": {},
   "source": [
    "### 1-2. 이미지 불러오기 옵션\n",
    " - cv2.IMREAD_COLOR : 이미지를 컬러로, 기본 옵션, 투명배경 무시\n",
    " - cv2.IMREAD_GRAYSCALE : 이미지를 흑백으로\n",
    " - cv2.IMREAD_UNCHANGED : 이미지 컬러, 투명배경 인식 (이미지를 불러올 떄 alpha값을 같이 불러옴)\n"
   ]
  },
  {
   "cell_type": "code",
   "execution_count": 5,
   "metadata": {},
   "outputs": [],
   "source": [
    "img_default = cv2.imread(DOG_PATH, cv2.IMREAD_COLOR )\n",
    "img_gray = cv2.imread(DOG_PATH, cv2.IMREAD_GRAYSCALE)\n",
    "img_unchanged = cv2.imread(DOG_PATH, cv2.IMREAD_UNCHANGED)\n",
    "\n",
    "cv2.imshow(\"Image default\", img_default)\n",
    "cv2.imshow(\"Image gray\", img_gray)\n",
    "cv2.imshow(\"image unchanged\", img_unchanged)\n",
    "\n",
    "cv2.waitKey(0)\n",
    "cv2.destroyAllWindows()"
   ]
  },
  {
   "cell_type": "markdown",
   "metadata": {},
   "source": [
    "### 1-3. 이미지 shape\n",
    " - 이미지의 세로,가로,채널을 출력"
   ]
  },
  {
   "cell_type": "code",
   "execution_count": 6,
   "metadata": {},
   "outputs": [
    {
     "name": "stdout",
     "output_type": "stream",
     "text": [
      "170 297 3\n"
     ]
    },
    {
     "data": {
      "text/plain": [
       "(170, 297)"
      ]
     },
     "execution_count": 6,
     "metadata": {},
     "output_type": "execute_result"
    }
   ],
   "source": [
    "img_default = cv2.imread(DOG_DOG_PATH, cv2.IMREAD_COLOR )\n",
    "img_gray = cv2.imread(DOG_DOG_PATH, cv2.IMREAD_GRAYSCALE)\n",
    "img_unchanged = cv2.imread(DOG_DOG_PATH, cv2.IMREAD_UNCHANGED)\n",
    "\n",
    "# RGB + Alpha 까지의 n개의 출력 jpg = 3 channel, png = 4 channel\n",
    "# height, weight, channel = img_default.shape\n",
    "height, weight, channel = img_unchanged.shape\n",
    "print(height, weight, channel) # channel \n",
    "\n",
    "img_gray.shape # 채널없음 \n"
   ]
  },
  {
   "cell_type": "code",
   "execution_count": 7,
   "metadata": {},
   "outputs": [],
   "source": [
    "img = cv2.imread(DOG_PATH)\n",
    "cv2.imshow(\"img\", img)\n",
    "key = cv2.waitKey(0)\n",
    "if key == ord(\"q\") : # q 누르면 종료 ord : 문자의 아스키 코드 획득\n",
    "    cv2.destroyAllWindows()\n"
   ]
  },
  {
   "cell_type": "code",
   "execution_count": 8,
   "metadata": {},
   "outputs": [
    {
     "data": {
      "text/plain": [
       "113"
      ]
     },
     "execution_count": 8,
     "metadata": {},
     "output_type": "execute_result"
    }
   ],
   "source": [
    "ord(\"q\")"
   ]
  },
  {
   "cell_type": "markdown",
   "metadata": {},
   "source": [
    "### 1.4 이미지쓰기\n",
    "- 불러온 이미지를 파일로 생성"
   ]
  },
  {
   "cell_type": "code",
   "execution_count": 9,
   "metadata": {},
   "outputs": [
    {
     "data": {
      "text/plain": [
       "True"
      ]
     },
     "execution_count": 9,
     "metadata": {},
     "output_type": "execute_result"
    }
   ],
   "source": [
    "img = cv2.imread(DOG_PATH, cv2.IMREAD_GRAYSCALE) # cv2.IMREAD_GRAYSCALE : 흑백 이미지 생성\n",
    "cv2.imwrite(\"output/new_dog.jpg\", img)\n"
   ]
  },
  {
   "cell_type": "code",
   "execution_count": null,
   "metadata": {},
   "outputs": [],
   "source": []
  }
 ],
 "metadata": {
  "kernelspec": {
   "display_name": "my_cv",
   "language": "python",
   "name": "python3"
  },
  "language_info": {
   "codemirror_mode": {
    "name": "ipython",
    "version": 3
   },
   "file_extension": ".py",
   "mimetype": "text/x-python",
   "name": "python",
   "nbconvert_exporter": "python",
   "pygments_lexer": "ipython3",
   "version": "3.13.0"
  }
 },
 "nbformat": 4,
 "nbformat_minor": 2
}
